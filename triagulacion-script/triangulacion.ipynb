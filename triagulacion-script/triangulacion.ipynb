{
 "cells": [
  {
   "cell_type": "code",
   "execution_count": 1,
   "metadata": {},
   "outputs": [],
   "source": [
    "import pylab as pl\n",
    "import math"
   ]
  },
  {
   "cell_type": "code",
   "execution_count": 2,
   "metadata": {},
   "outputs": [],
   "source": [
    "# Ubicacion de los nodos en orden 1, 2 y 3. \n",
    "# Enumerados en sentido horario a partir del que se toma como nodo 1 (0, 0)\n",
    "x = [0, 32.5, 65, 0]\n",
    "y = [0, 65, 0, 0]"
   ]
  },
  {
   "cell_type": "code",
   "execution_count": 8,
   "metadata": {},
   "outputs": [
    {
     "name": "stdout",
     "output_type": "stream",
     "text": [
      "Ingrese la potencia del nodo 1: -65\n",
      "Ingrese la potencia del nodo 2: -69\n",
      "Ingrese la potencia del nodo 3: -60\n"
     ]
    }
   ],
   "source": [
    "P1 = input(\"Ingrese la potencia del nodo 1: \")\n",
    "P2 = input(\"Ingrese la potencia del nodo 2: \")\n",
    "P3 = input(\"Ingrese la potencia del nodo 3: \")\n",
    "dist12 = 72.67\n",
    "dist23 = 72.67\n",
    "dist13 = 65"
   ]
  },
  {
   "cell_type": "code",
   "execution_count": 9,
   "metadata": {},
   "outputs": [],
   "source": [
    "exp = (int(P2) - int(P1))/20\n",
    "result = 10**exp\n",
    "d12 = (result * dist12)/(1+result)\n",
    "\n",
    "# Buscamos el angulo mediante el teorema del coseno\n",
    "ang1 = math.acos((dist12**2 + dist13**2 - dist23**2)/(2*dist12*dist13))\n",
    "\n",
    "# Determinamos las coordenadas del punto\n",
    "x12 = d12 * math.cos(ang1)\n",
    "y12 = d12 * math.sin(ang1)\n",
    "\n",
    "# Buscamos la pendiente de la recta perpendicular\n",
    "m12 = (-1)*((y[1]-y[0])/(x[1]-x[0]))**(-1)\n",
    "x12_rec = [x12, 65]\n",
    "y12_rec = [y12, m12 * 65 - m12 * x12 + y12]"
   ]
  },
  {
   "cell_type": "code",
   "execution_count": 10,
   "metadata": {},
   "outputs": [],
   "source": [
    "exp = (int(P2) - int(P3))/20\n",
    "result = 10**exp\n",
    "d32 = (result * dist23)/(1+result)\n",
    "\n",
    "# Buscamos el angulo mediante el teorema del coseno\n",
    "ang3 = math.acos((dist23**2 + dist13**2 - dist12**2)/(2*dist13*dist23))\n",
    "\n",
    "# Determinamos las coordenadas del punto\n",
    "x32 = x[2] - d32 * math.cos(ang3)\n",
    "y32 = d32 * math.sin(ang3)\n",
    "\n",
    "# Buscamos la pendiente de la recta perpendicular\n",
    "m32 = (-1)*((y[1]-y[2])/(x[1]-x[2]))**(-1)\n",
    "x32_rec = [x32, 0]\n",
    "y32_rec = [y32, m32 * 0 - m32 * x32 + y32]"
   ]
  },
  {
   "cell_type": "code",
   "execution_count": 11,
   "metadata": {},
   "outputs": [],
   "source": [
    "exp = (int(P1) - int(P3))/20\n",
    "result = 10**exp\n",
    "d31 = (result * dist13)/(1+result)\n",
    "\n",
    "# Determinamos las coordenadas del punto\n",
    "x31 = x[0] + d31\n",
    "y31 = 0\n",
    "\n",
    "# Al estar siempre sobre el eje X, la recta perpendicular siempre sera una constante\n",
    "x31_rec = [x31, x31]\n",
    "y31_rec = [y31, y[1]]"
   ]
  },
  {
   "cell_type": "code",
   "execution_count": 13,
   "metadata": {},
   "outputs": [
    {
     "data": {
      "image/png": "[encoded data removed]",
      "text/plain": [
       "<Figure size 432x288 with 1 Axes>"
      ]
     },
     "metadata": {
      "needs_background": "light"
     },
     "output_type": "display_data"
    }
   ],
   "source": [
    "# Graficamos los resultados\n",
    "#pl.figure(figsize=(8, 8), dpi=70)\n",
    "if x[2] > y[2]:\n",
    "    lim_max = x[2] + 5\n",
    "else:\n",
    "    lim_max = y[2] + 5\n",
    "    \n",
    "pl.xlim(x[0]-5, lim_max)\n",
    "pl.ylim(x[0]-5, lim_max)\n",
    "pl.plot(x, y, 'o-')\n",
    "pl.plot(x31_rec, y31_rec, 'o-')\n",
    "pl.plot(x32_rec, y32_rec, 'o-')\n",
    "pl.plot(x12_rec, y12_rec, 'o-')\n",
    "pl.annotate('Nodo 1', xy=(x[0], y[0]), xytext=(x[0]-4, y[0]-3))\n",
    "pl.annotate('Nodo 2', xy=(x[1], y[1]), xytext=(x[1]-3, y[1]+2))\n",
    "pl.annotate('Nodo 3', xy=(x[2], y[2]), xytext=(x[2]-3, y[2]-3))\n",
    "pl.show()"
   ]
  },
  {
   "cell_type": "code",
   "execution_count": 29,
   "metadata": {},
   "outputs": [
    {
     "name": "stdout",
     "output_type": "stream",
     "text": [
      "Intersección entre rectar 12 y 23: x( 32.5 m) y( 15.181677792346726 m)\n",
      "Intersección entre rectar 12 y 13: x( 32.5 m) y( 15.181677792346727 m)\n",
      "Intersección entre rectar 23 y 13: x( 32.5 m) y( 15.181677792346726 m)\n"
     ]
    }
   ],
   "source": [
    "# Interseccion entre rectas 12 / 23\n",
    "x_inter12_23 = (- m12 * x12 + y12 - y32 + m32 * x32)/(m32 - m12)\n",
    "y_inter12_23 = m32 * x_interseccion - m32 * x32 + y32\n",
    "print (\"Intersección entre rectar 12 y 23: x(\", x_inter12_23, \"m) y(\", y_inter12_23, \"m)\")\n",
    "\n",
    "# Interseccion entre rectas 12 / 13\n",
    "x_inter12_13 = x31\n",
    "y_inter12_13 = m12 * x31 - m12 * x12 + y12\n",
    "print (\"Intersección entre rectar 12 y 13: x(\", x_inter12_13, \"m) y(\", y_inter12_13, \"m)\")\n",
    "\n",
    "# Interseccion entre rectas 23 / 13\n",
    "x_inter23_13 = x31\n",
    "y_inter23_13 = m32 * x31 - m32 * x32 + y32\n",
    "print (\"Intersección entre rectar 23 y 13: x(\", x_inter23_13, \"m) y(\", y_inter23_13, \"m)\")"
   ]
  }
 ],
 "metadata": {
  "kernelspec": {
   "display_name": "Python 3",
   "language": "python",
   "name": "python3"
  },
  "language_info": {
   "codemirror_mode": {
    "name": "ipython",
    "version": 3
   },
   "file_extension": ".py",
   "mimetype": "text/x-python",
   "name": "python",
   "nbconvert_exporter": "python",
   "pygments_lexer": "ipython3",
   "version": "3.8.5"
  }
 },
 "nbformat": 4,
 "nbformat_minor": 4
}
